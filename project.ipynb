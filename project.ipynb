{
 "cells": [
  {
   "cell_type": "code",
   "execution_count": 1,
   "id": "876b0c44",
   "metadata": {
    "execution": {
     "iopub.execute_input": "2024-07-31T19:39:14.020222Z",
     "iopub.status.busy": "2024-07-31T19:39:14.019252Z",
     "iopub.status.idle": "2024-07-31T19:39:18.525719Z",
     "shell.execute_reply": "2024-07-31T19:39:18.524488Z"
    },
    "papermill": {
     "duration": 4.519537,
     "end_time": "2024-07-31T19:39:18.528131",
     "exception": false,
     "start_time": "2024-07-31T19:39:14.008594",
     "status": "completed"
    },
    "tags": []
   },
   "outputs": [],
   "source": [
    "import pandas as pd\n",
    "import numpy as np\n",
    "import seaborn as sns\n",
    "import matplotlib.pyplot as plt\n",
    "from sklearn.model_selection import train_test_split\n",
    "from sklearn.preprocessing import LabelEncoder\n",
    "from sklearn.preprocessing import StandardScaler\n",
    "from sklearn.preprocessing import MinMaxScaler\n",
    "from imblearn.over_sampling import SMOTE\n",
    "from sklearn.datasets import make_classification\n",
    "from lightgbm import LGBMClassifier\n",
    "import xgboost as xgb\n",
    "from xgboost import XGBClassifier\n",
    "from sklearn.metrics import accuracy_score, confusion_matrix, classification_report\n",
    "from sklearn.model_selection import GridSearchCV"
   ]
  },
  {
   "cell_type": "code",
   "execution_count": 2,
   "id": "1dad8c3f",
   "metadata": {
    "execution": {
     "iopub.execute_input": "2024-07-31T19:39:18.550429Z",
     "iopub.status.busy": "2024-07-31T19:39:18.549846Z",
     "iopub.status.idle": "2024-07-31T19:39:51.267495Z",
     "shell.execute_reply": "2024-07-31T19:39:51.266378Z"
    },
    "papermill": {
     "duration": 32.731074,
     "end_time": "2024-07-31T19:39:51.270195",
     "exception": false,
     "start_time": "2024-07-31T19:39:18.539121",
     "status": "completed"
    },
    "tags": []
   },
   "outputs": [],
   "source": [
    "train=pd.read_csv('/kaggle/input/playground-series-s4e7/train.csv')\n",
    "test=pd.read_csv('/kaggle/input/playground-series-s4e7/test.csv')"
   ]
  },
  {
   "cell_type": "code",
   "execution_count": 3,
   "id": "dbf20485",
   "metadata": {
    "execution": {
     "iopub.execute_input": "2024-07-31T19:39:51.291145Z",
     "iopub.status.busy": "2024-07-31T19:39:51.290766Z",
     "iopub.status.idle": "2024-07-31T19:39:51.318470Z",
     "shell.execute_reply": "2024-07-31T19:39:51.317249Z"
    },
    "papermill": {
     "duration": 0.040913,
     "end_time": "2024-07-31T19:39:51.320905",
     "exception": false,
     "start_time": "2024-07-31T19:39:51.279992",
     "status": "completed"
    },
    "tags": []
   },
   "outputs": [
    {
     "data": {
      "text/html": [
       "<div>\n",
       "<style scoped>\n",
       "    .dataframe tbody tr th:only-of-type {\n",
       "        vertical-align: middle;\n",
       "    }\n",
       "\n",
       "    .dataframe tbody tr th {\n",
       "        vertical-align: top;\n",
       "    }\n",
       "\n",
       "    .dataframe thead th {\n",
       "        text-align: right;\n",
       "    }\n",
       "</style>\n",
       "<table border=\"1\" class=\"dataframe\">\n",
       "  <thead>\n",
       "    <tr style=\"text-align: right;\">\n",
       "      <th></th>\n",
       "      <th>id</th>\n",
       "      <th>Gender</th>\n",
       "      <th>Age</th>\n",
       "      <th>Driving_License</th>\n",
       "      <th>Region_Code</th>\n",
       "      <th>Previously_Insured</th>\n",
       "      <th>Vehicle_Age</th>\n",
       "      <th>Vehicle_Damage</th>\n",
       "      <th>Annual_Premium</th>\n",
       "      <th>Policy_Sales_Channel</th>\n",
       "      <th>Vintage</th>\n",
       "      <th>Response</th>\n",
       "    </tr>\n",
       "  </thead>\n",
       "  <tbody>\n",
       "    <tr>\n",
       "      <th>0</th>\n",
       "      <td>0</td>\n",
       "      <td>Male</td>\n",
       "      <td>21</td>\n",
       "      <td>1</td>\n",
       "      <td>35.0</td>\n",
       "      <td>0</td>\n",
       "      <td>1-2 Year</td>\n",
       "      <td>Yes</td>\n",
       "      <td>65101.0</td>\n",
       "      <td>124.0</td>\n",
       "      <td>187</td>\n",
       "      <td>0</td>\n",
       "    </tr>\n",
       "    <tr>\n",
       "      <th>1</th>\n",
       "      <td>1</td>\n",
       "      <td>Male</td>\n",
       "      <td>43</td>\n",
       "      <td>1</td>\n",
       "      <td>28.0</td>\n",
       "      <td>0</td>\n",
       "      <td>&gt; 2 Years</td>\n",
       "      <td>Yes</td>\n",
       "      <td>58911.0</td>\n",
       "      <td>26.0</td>\n",
       "      <td>288</td>\n",
       "      <td>1</td>\n",
       "    </tr>\n",
       "    <tr>\n",
       "      <th>2</th>\n",
       "      <td>2</td>\n",
       "      <td>Female</td>\n",
       "      <td>25</td>\n",
       "      <td>1</td>\n",
       "      <td>14.0</td>\n",
       "      <td>1</td>\n",
       "      <td>&lt; 1 Year</td>\n",
       "      <td>No</td>\n",
       "      <td>38043.0</td>\n",
       "      <td>152.0</td>\n",
       "      <td>254</td>\n",
       "      <td>0</td>\n",
       "    </tr>\n",
       "    <tr>\n",
       "      <th>3</th>\n",
       "      <td>3</td>\n",
       "      <td>Female</td>\n",
       "      <td>35</td>\n",
       "      <td>1</td>\n",
       "      <td>1.0</td>\n",
       "      <td>0</td>\n",
       "      <td>1-2 Year</td>\n",
       "      <td>Yes</td>\n",
       "      <td>2630.0</td>\n",
       "      <td>156.0</td>\n",
       "      <td>76</td>\n",
       "      <td>0</td>\n",
       "    </tr>\n",
       "    <tr>\n",
       "      <th>4</th>\n",
       "      <td>4</td>\n",
       "      <td>Female</td>\n",
       "      <td>36</td>\n",
       "      <td>1</td>\n",
       "      <td>15.0</td>\n",
       "      <td>1</td>\n",
       "      <td>1-2 Year</td>\n",
       "      <td>No</td>\n",
       "      <td>31951.0</td>\n",
       "      <td>152.0</td>\n",
       "      <td>294</td>\n",
       "      <td>0</td>\n",
       "    </tr>\n",
       "  </tbody>\n",
       "</table>\n",
       "</div>"
      ],
      "text/plain": [
       "   id  Gender  Age  Driving_License  Region_Code  Previously_Insured  \\\n",
       "0   0    Male   21                1         35.0                   0   \n",
       "1   1    Male   43                1         28.0                   0   \n",
       "2   2  Female   25                1         14.0                   1   \n",
       "3   3  Female   35                1          1.0                   0   \n",
       "4   4  Female   36                1         15.0                   1   \n",
       "\n",
       "  Vehicle_Age Vehicle_Damage  Annual_Premium  Policy_Sales_Channel  Vintage  \\\n",
       "0    1-2 Year            Yes         65101.0                 124.0      187   \n",
       "1   > 2 Years            Yes         58911.0                  26.0      288   \n",
       "2    < 1 Year             No         38043.0                 152.0      254   \n",
       "3    1-2 Year            Yes          2630.0                 156.0       76   \n",
       "4    1-2 Year             No         31951.0                 152.0      294   \n",
       "\n",
       "   Response  \n",
       "0         0  \n",
       "1         1  \n",
       "2         0  \n",
       "3         0  \n",
       "4         0  "
      ]
     },
     "execution_count": 3,
     "metadata": {},
     "output_type": "execute_result"
    }
   ],
   "source": [
    "train.head()"
   ]
  },
  {
   "cell_type": "code",
   "execution_count": 4,
   "id": "a52338de",
   "metadata": {
    "execution": {
     "iopub.execute_input": "2024-07-31T19:39:51.343456Z",
     "iopub.status.busy": "2024-07-31T19:39:51.343044Z",
     "iopub.status.idle": "2024-07-31T19:39:51.358870Z",
     "shell.execute_reply": "2024-07-31T19:39:51.357801Z"
    },
    "papermill": {
     "duration": 0.029379,
     "end_time": "2024-07-31T19:39:51.361080",
     "exception": false,
     "start_time": "2024-07-31T19:39:51.331701",
     "status": "completed"
    },
    "tags": []
   },
   "outputs": [
    {
     "data": {
      "text/html": [
       "<div>\n",
       "<style scoped>\n",
       "    .dataframe tbody tr th:only-of-type {\n",
       "        vertical-align: middle;\n",
       "    }\n",
       "\n",
       "    .dataframe tbody tr th {\n",
       "        vertical-align: top;\n",
       "    }\n",
       "\n",
       "    .dataframe thead th {\n",
       "        text-align: right;\n",
       "    }\n",
       "</style>\n",
       "<table border=\"1\" class=\"dataframe\">\n",
       "  <thead>\n",
       "    <tr style=\"text-align: right;\">\n",
       "      <th></th>\n",
       "      <th>id</th>\n",
       "      <th>Gender</th>\n",
       "      <th>Age</th>\n",
       "      <th>Driving_License</th>\n",
       "      <th>Region_Code</th>\n",
       "      <th>Previously_Insured</th>\n",
       "      <th>Vehicle_Age</th>\n",
       "      <th>Vehicle_Damage</th>\n",
       "      <th>Annual_Premium</th>\n",
       "      <th>Policy_Sales_Channel</th>\n",
       "      <th>Vintage</th>\n",
       "    </tr>\n",
       "  </thead>\n",
       "  <tbody>\n",
       "    <tr>\n",
       "      <th>0</th>\n",
       "      <td>11504798</td>\n",
       "      <td>Female</td>\n",
       "      <td>20</td>\n",
       "      <td>1</td>\n",
       "      <td>47.0</td>\n",
       "      <td>0</td>\n",
       "      <td>&lt; 1 Year</td>\n",
       "      <td>No</td>\n",
       "      <td>2630.0</td>\n",
       "      <td>160.0</td>\n",
       "      <td>228</td>\n",
       "    </tr>\n",
       "    <tr>\n",
       "      <th>1</th>\n",
       "      <td>11504799</td>\n",
       "      <td>Male</td>\n",
       "      <td>47</td>\n",
       "      <td>1</td>\n",
       "      <td>28.0</td>\n",
       "      <td>0</td>\n",
       "      <td>1-2 Year</td>\n",
       "      <td>Yes</td>\n",
       "      <td>37483.0</td>\n",
       "      <td>124.0</td>\n",
       "      <td>123</td>\n",
       "    </tr>\n",
       "    <tr>\n",
       "      <th>2</th>\n",
       "      <td>11504800</td>\n",
       "      <td>Male</td>\n",
       "      <td>47</td>\n",
       "      <td>1</td>\n",
       "      <td>43.0</td>\n",
       "      <td>0</td>\n",
       "      <td>1-2 Year</td>\n",
       "      <td>Yes</td>\n",
       "      <td>2630.0</td>\n",
       "      <td>26.0</td>\n",
       "      <td>271</td>\n",
       "    </tr>\n",
       "    <tr>\n",
       "      <th>3</th>\n",
       "      <td>11504801</td>\n",
       "      <td>Female</td>\n",
       "      <td>22</td>\n",
       "      <td>1</td>\n",
       "      <td>47.0</td>\n",
       "      <td>1</td>\n",
       "      <td>&lt; 1 Year</td>\n",
       "      <td>No</td>\n",
       "      <td>24502.0</td>\n",
       "      <td>152.0</td>\n",
       "      <td>115</td>\n",
       "    </tr>\n",
       "    <tr>\n",
       "      <th>4</th>\n",
       "      <td>11504802</td>\n",
       "      <td>Male</td>\n",
       "      <td>51</td>\n",
       "      <td>1</td>\n",
       "      <td>19.0</td>\n",
       "      <td>0</td>\n",
       "      <td>1-2 Year</td>\n",
       "      <td>No</td>\n",
       "      <td>34115.0</td>\n",
       "      <td>124.0</td>\n",
       "      <td>148</td>\n",
       "    </tr>\n",
       "  </tbody>\n",
       "</table>\n",
       "</div>"
      ],
      "text/plain": [
       "         id  Gender  Age  Driving_License  Region_Code  Previously_Insured  \\\n",
       "0  11504798  Female   20                1         47.0                   0   \n",
       "1  11504799    Male   47                1         28.0                   0   \n",
       "2  11504800    Male   47                1         43.0                   0   \n",
       "3  11504801  Female   22                1         47.0                   1   \n",
       "4  11504802    Male   51                1         19.0                   0   \n",
       "\n",
       "  Vehicle_Age Vehicle_Damage  Annual_Premium  Policy_Sales_Channel  Vintage  \n",
       "0    < 1 Year             No          2630.0                 160.0      228  \n",
       "1    1-2 Year            Yes         37483.0                 124.0      123  \n",
       "2    1-2 Year            Yes          2630.0                  26.0      271  \n",
       "3    < 1 Year             No         24502.0                 152.0      115  \n",
       "4    1-2 Year             No         34115.0                 124.0      148  "
      ]
     },
     "execution_count": 4,
     "metadata": {},
     "output_type": "execute_result"
    }
   ],
   "source": [
    "test.head()"
   ]
  },
  {
   "cell_type": "code",
   "execution_count": 5,
   "id": "f5147f9a",
   "metadata": {
    "execution": {
     "iopub.execute_input": "2024-07-31T19:39:51.382982Z",
     "iopub.status.busy": "2024-07-31T19:39:51.382564Z",
     "iopub.status.idle": "2024-07-31T19:39:51.407951Z",
     "shell.execute_reply": "2024-07-31T19:39:51.406739Z"
    },
    "papermill": {
     "duration": 0.038884,
     "end_time": "2024-07-31T19:39:51.410229",
     "exception": false,
     "start_time": "2024-07-31T19:39:51.371345",
     "status": "completed"
    },
    "tags": []
   },
   "outputs": [
    {
     "name": "stdout",
     "output_type": "stream",
     "text": [
      "<class 'pandas.core.frame.DataFrame'>\n",
      "RangeIndex: 11504798 entries, 0 to 11504797\n",
      "Data columns (total 12 columns):\n",
      " #   Column                Dtype  \n",
      "---  ------                -----  \n",
      " 0   id                    int64  \n",
      " 1   Gender                object \n",
      " 2   Age                   int64  \n",
      " 3   Driving_License       int64  \n",
      " 4   Region_Code           float64\n",
      " 5   Previously_Insured    int64  \n",
      " 6   Vehicle_Age           object \n",
      " 7   Vehicle_Damage        object \n",
      " 8   Annual_Premium        float64\n",
      " 9   Policy_Sales_Channel  float64\n",
      " 10  Vintage               int64  \n",
      " 11  Response              int64  \n",
      "dtypes: float64(3), int64(6), object(3)\n",
      "memory usage: 1.0+ GB\n"
     ]
    }
   ],
   "source": [
    "train.info()"
   ]
  },
  {
   "cell_type": "code",
   "execution_count": 6,
   "id": "2fec88d8",
   "metadata": {
    "execution": {
     "iopub.execute_input": "2024-07-31T19:39:51.432229Z",
     "iopub.status.busy": "2024-07-31T19:39:51.431851Z",
     "iopub.status.idle": "2024-07-31T19:39:51.442900Z",
     "shell.execute_reply": "2024-07-31T19:39:51.441739Z"
    },
    "papermill": {
     "duration": 0.02483,
     "end_time": "2024-07-31T19:39:51.445216",
     "exception": false,
     "start_time": "2024-07-31T19:39:51.420386",
     "status": "completed"
    },
    "tags": []
   },
   "outputs": [
    {
     "name": "stdout",
     "output_type": "stream",
     "text": [
      "<class 'pandas.core.frame.DataFrame'>\n",
      "RangeIndex: 7669866 entries, 0 to 7669865\n",
      "Data columns (total 11 columns):\n",
      " #   Column                Dtype  \n",
      "---  ------                -----  \n",
      " 0   id                    int64  \n",
      " 1   Gender                object \n",
      " 2   Age                   int64  \n",
      " 3   Driving_License       int64  \n",
      " 4   Region_Code           float64\n",
      " 5   Previously_Insured    int64  \n",
      " 6   Vehicle_Age           object \n",
      " 7   Vehicle_Damage        object \n",
      " 8   Annual_Premium        float64\n",
      " 9   Policy_Sales_Channel  float64\n",
      " 10  Vintage               int64  \n",
      "dtypes: float64(3), int64(5), object(3)\n",
      "memory usage: 643.7+ MB\n"
     ]
    }
   ],
   "source": [
    "test.info()"
   ]
  },
  {
   "cell_type": "code",
   "execution_count": 7,
   "id": "3eb0c3ca",
   "metadata": {
    "execution": {
     "iopub.execute_input": "2024-07-31T19:39:51.467676Z",
     "iopub.status.busy": "2024-07-31T19:39:51.467276Z",
     "iopub.status.idle": "2024-07-31T19:39:55.277529Z",
     "shell.execute_reply": "2024-07-31T19:39:55.276149Z"
    },
    "papermill": {
     "duration": 3.824494,
     "end_time": "2024-07-31T19:39:55.280141",
     "exception": false,
     "start_time": "2024-07-31T19:39:51.455647",
     "status": "completed"
    },
    "tags": []
   },
   "outputs": [
    {
     "data": {
      "text/html": [
       "<div>\n",
       "<style scoped>\n",
       "    .dataframe tbody tr th:only-of-type {\n",
       "        vertical-align: middle;\n",
       "    }\n",
       "\n",
       "    .dataframe tbody tr th {\n",
       "        vertical-align: top;\n",
       "    }\n",
       "\n",
       "    .dataframe thead th {\n",
       "        text-align: right;\n",
       "    }\n",
       "</style>\n",
       "<table border=\"1\" class=\"dataframe\">\n",
       "  <thead>\n",
       "    <tr style=\"text-align: right;\">\n",
       "      <th></th>\n",
       "      <th>id</th>\n",
       "      <th>Age</th>\n",
       "      <th>Driving_License</th>\n",
       "      <th>Region_Code</th>\n",
       "      <th>Previously_Insured</th>\n",
       "      <th>Annual_Premium</th>\n",
       "      <th>Policy_Sales_Channel</th>\n",
       "      <th>Vintage</th>\n",
       "      <th>Response</th>\n",
       "    </tr>\n",
       "  </thead>\n",
       "  <tbody>\n",
       "    <tr>\n",
       "      <th>count</th>\n",
       "      <td>1.150480e+07</td>\n",
       "      <td>1.150480e+07</td>\n",
       "      <td>1.150480e+07</td>\n",
       "      <td>1.150480e+07</td>\n",
       "      <td>1.150480e+07</td>\n",
       "      <td>1.150480e+07</td>\n",
       "      <td>1.150480e+07</td>\n",
       "      <td>1.150480e+07</td>\n",
       "      <td>1.150480e+07</td>\n",
       "    </tr>\n",
       "    <tr>\n",
       "      <th>mean</th>\n",
       "      <td>5.752398e+06</td>\n",
       "      <td>3.838356e+01</td>\n",
       "      <td>9.980220e-01</td>\n",
       "      <td>2.641869e+01</td>\n",
       "      <td>4.629966e-01</td>\n",
       "      <td>3.046137e+04</td>\n",
       "      <td>1.124254e+02</td>\n",
       "      <td>1.638977e+02</td>\n",
       "      <td>1.229973e-01</td>\n",
       "    </tr>\n",
       "    <tr>\n",
       "      <th>std</th>\n",
       "      <td>3.321149e+06</td>\n",
       "      <td>1.499346e+01</td>\n",
       "      <td>4.443120e-02</td>\n",
       "      <td>1.299159e+01</td>\n",
       "      <td>4.986289e-01</td>\n",
       "      <td>1.645475e+04</td>\n",
       "      <td>5.403571e+01</td>\n",
       "      <td>7.997953e+01</td>\n",
       "      <td>3.284341e-01</td>\n",
       "    </tr>\n",
       "    <tr>\n",
       "      <th>min</th>\n",
       "      <td>0.000000e+00</td>\n",
       "      <td>2.000000e+01</td>\n",
       "      <td>0.000000e+00</td>\n",
       "      <td>0.000000e+00</td>\n",
       "      <td>0.000000e+00</td>\n",
       "      <td>2.630000e+03</td>\n",
       "      <td>1.000000e+00</td>\n",
       "      <td>1.000000e+01</td>\n",
       "      <td>0.000000e+00</td>\n",
       "    </tr>\n",
       "    <tr>\n",
       "      <th>25%</th>\n",
       "      <td>2.876199e+06</td>\n",
       "      <td>2.400000e+01</td>\n",
       "      <td>1.000000e+00</td>\n",
       "      <td>1.500000e+01</td>\n",
       "      <td>0.000000e+00</td>\n",
       "      <td>2.527700e+04</td>\n",
       "      <td>2.900000e+01</td>\n",
       "      <td>9.900000e+01</td>\n",
       "      <td>0.000000e+00</td>\n",
       "    </tr>\n",
       "    <tr>\n",
       "      <th>50%</th>\n",
       "      <td>5.752398e+06</td>\n",
       "      <td>3.600000e+01</td>\n",
       "      <td>1.000000e+00</td>\n",
       "      <td>2.800000e+01</td>\n",
       "      <td>0.000000e+00</td>\n",
       "      <td>3.182400e+04</td>\n",
       "      <td>1.510000e+02</td>\n",
       "      <td>1.660000e+02</td>\n",
       "      <td>0.000000e+00</td>\n",
       "    </tr>\n",
       "    <tr>\n",
       "      <th>75%</th>\n",
       "      <td>8.628598e+06</td>\n",
       "      <td>4.900000e+01</td>\n",
       "      <td>1.000000e+00</td>\n",
       "      <td>3.500000e+01</td>\n",
       "      <td>1.000000e+00</td>\n",
       "      <td>3.945100e+04</td>\n",
       "      <td>1.520000e+02</td>\n",
       "      <td>2.320000e+02</td>\n",
       "      <td>0.000000e+00</td>\n",
       "    </tr>\n",
       "    <tr>\n",
       "      <th>max</th>\n",
       "      <td>1.150480e+07</td>\n",
       "      <td>8.500000e+01</td>\n",
       "      <td>1.000000e+00</td>\n",
       "      <td>5.200000e+01</td>\n",
       "      <td>1.000000e+00</td>\n",
       "      <td>5.401650e+05</td>\n",
       "      <td>1.630000e+02</td>\n",
       "      <td>2.990000e+02</td>\n",
       "      <td>1.000000e+00</td>\n",
       "    </tr>\n",
       "  </tbody>\n",
       "</table>\n",
       "</div>"
      ],
      "text/plain": [
       "                 id           Age  Driving_License   Region_Code  \\\n",
       "count  1.150480e+07  1.150480e+07     1.150480e+07  1.150480e+07   \n",
       "mean   5.752398e+06  3.838356e+01     9.980220e-01  2.641869e+01   \n",
       "std    3.321149e+06  1.499346e+01     4.443120e-02  1.299159e+01   \n",
       "min    0.000000e+00  2.000000e+01     0.000000e+00  0.000000e+00   \n",
       "25%    2.876199e+06  2.400000e+01     1.000000e+00  1.500000e+01   \n",
       "50%    5.752398e+06  3.600000e+01     1.000000e+00  2.800000e+01   \n",
       "75%    8.628598e+06  4.900000e+01     1.000000e+00  3.500000e+01   \n",
       "max    1.150480e+07  8.500000e+01     1.000000e+00  5.200000e+01   \n",
       "\n",
       "       Previously_Insured  Annual_Premium  Policy_Sales_Channel       Vintage  \\\n",
       "count        1.150480e+07    1.150480e+07          1.150480e+07  1.150480e+07   \n",
       "mean         4.629966e-01    3.046137e+04          1.124254e+02  1.638977e+02   \n",
       "std          4.986289e-01    1.645475e+04          5.403571e+01  7.997953e+01   \n",
       "min          0.000000e+00    2.630000e+03          1.000000e+00  1.000000e+01   \n",
       "25%          0.000000e+00    2.527700e+04          2.900000e+01  9.900000e+01   \n",
       "50%          0.000000e+00    3.182400e+04          1.510000e+02  1.660000e+02   \n",
       "75%          1.000000e+00    3.945100e+04          1.520000e+02  2.320000e+02   \n",
       "max          1.000000e+00    5.401650e+05          1.630000e+02  2.990000e+02   \n",
       "\n",
       "           Response  \n",
       "count  1.150480e+07  \n",
       "mean   1.229973e-01  \n",
       "std    3.284341e-01  \n",
       "min    0.000000e+00  \n",
       "25%    0.000000e+00  \n",
       "50%    0.000000e+00  \n",
       "75%    0.000000e+00  \n",
       "max    1.000000e+00  "
      ]
     },
     "execution_count": 7,
     "metadata": {},
     "output_type": "execute_result"
    }
   ],
   "source": [
    "train.describe()"
   ]
  },
  {
   "cell_type": "code",
   "execution_count": 8,
   "id": "e37d3874",
   "metadata": {
    "execution": {
     "iopub.execute_input": "2024-07-31T19:39:55.303452Z",
     "iopub.status.busy": "2024-07-31T19:39:55.302957Z",
     "iopub.status.idle": "2024-07-31T19:39:57.571626Z",
     "shell.execute_reply": "2024-07-31T19:39:57.570387Z"
    },
    "papermill": {
     "duration": 2.282898,
     "end_time": "2024-07-31T19:39:57.573832",
     "exception": false,
     "start_time": "2024-07-31T19:39:55.290934",
     "status": "completed"
    },
    "tags": []
   },
   "outputs": [
    {
     "data": {
      "text/html": [
       "<div>\n",
       "<style scoped>\n",
       "    .dataframe tbody tr th:only-of-type {\n",
       "        vertical-align: middle;\n",
       "    }\n",
       "\n",
       "    .dataframe tbody tr th {\n",
       "        vertical-align: top;\n",
       "    }\n",
       "\n",
       "    .dataframe thead th {\n",
       "        text-align: right;\n",
       "    }\n",
       "</style>\n",
       "<table border=\"1\" class=\"dataframe\">\n",
       "  <thead>\n",
       "    <tr style=\"text-align: right;\">\n",
       "      <th></th>\n",
       "      <th>id</th>\n",
       "      <th>Age</th>\n",
       "      <th>Driving_License</th>\n",
       "      <th>Region_Code</th>\n",
       "      <th>Previously_Insured</th>\n",
       "      <th>Annual_Premium</th>\n",
       "      <th>Policy_Sales_Channel</th>\n",
       "      <th>Vintage</th>\n",
       "    </tr>\n",
       "  </thead>\n",
       "  <tbody>\n",
       "    <tr>\n",
       "      <th>count</th>\n",
       "      <td>7.669866e+06</td>\n",
       "      <td>7.669866e+06</td>\n",
       "      <td>7.669866e+06</td>\n",
       "      <td>7.669866e+06</td>\n",
       "      <td>7.669866e+06</td>\n",
       "      <td>7.669866e+06</td>\n",
       "      <td>7.669866e+06</td>\n",
       "      <td>7.669866e+06</td>\n",
       "    </tr>\n",
       "    <tr>\n",
       "      <th>mean</th>\n",
       "      <td>1.533973e+07</td>\n",
       "      <td>3.839137e+01</td>\n",
       "      <td>9.980208e-01</td>\n",
       "      <td>2.642661e+01</td>\n",
       "      <td>4.630772e-01</td>\n",
       "      <td>3.046553e+04</td>\n",
       "      <td>1.123650e+02</td>\n",
       "      <td>1.638996e+02</td>\n",
       "    </tr>\n",
       "    <tr>\n",
       "      <th>std</th>\n",
       "      <td>2.214100e+06</td>\n",
       "      <td>1.499951e+01</td>\n",
       "      <td>4.444387e-02</td>\n",
       "      <td>1.299433e+01</td>\n",
       "      <td>4.986349e-01</td>\n",
       "      <td>1.644586e+04</td>\n",
       "      <td>5.407358e+01</td>\n",
       "      <td>7.998445e+01</td>\n",
       "    </tr>\n",
       "    <tr>\n",
       "      <th>min</th>\n",
       "      <td>1.150480e+07</td>\n",
       "      <td>2.000000e+01</td>\n",
       "      <td>0.000000e+00</td>\n",
       "      <td>0.000000e+00</td>\n",
       "      <td>0.000000e+00</td>\n",
       "      <td>2.630000e+03</td>\n",
       "      <td>1.000000e+00</td>\n",
       "      <td>1.000000e+01</td>\n",
       "    </tr>\n",
       "    <tr>\n",
       "      <th>25%</th>\n",
       "      <td>1.342226e+07</td>\n",
       "      <td>2.400000e+01</td>\n",
       "      <td>1.000000e+00</td>\n",
       "      <td>1.500000e+01</td>\n",
       "      <td>0.000000e+00</td>\n",
       "      <td>2.528000e+04</td>\n",
       "      <td>2.900000e+01</td>\n",
       "      <td>9.900000e+01</td>\n",
       "    </tr>\n",
       "    <tr>\n",
       "      <th>50%</th>\n",
       "      <td>1.533973e+07</td>\n",
       "      <td>3.600000e+01</td>\n",
       "      <td>1.000000e+00</td>\n",
       "      <td>2.800000e+01</td>\n",
       "      <td>0.000000e+00</td>\n",
       "      <td>3.182700e+04</td>\n",
       "      <td>1.510000e+02</td>\n",
       "      <td>1.660000e+02</td>\n",
       "    </tr>\n",
       "    <tr>\n",
       "      <th>75%</th>\n",
       "      <td>1.725720e+07</td>\n",
       "      <td>4.900000e+01</td>\n",
       "      <td>1.000000e+00</td>\n",
       "      <td>3.500000e+01</td>\n",
       "      <td>1.000000e+00</td>\n",
       "      <td>3.946000e+04</td>\n",
       "      <td>1.520000e+02</td>\n",
       "      <td>2.320000e+02</td>\n",
       "    </tr>\n",
       "    <tr>\n",
       "      <th>max</th>\n",
       "      <td>1.917466e+07</td>\n",
       "      <td>8.500000e+01</td>\n",
       "      <td>1.000000e+00</td>\n",
       "      <td>5.200000e+01</td>\n",
       "      <td>1.000000e+00</td>\n",
       "      <td>5.401650e+05</td>\n",
       "      <td>1.630000e+02</td>\n",
       "      <td>2.990000e+02</td>\n",
       "    </tr>\n",
       "  </tbody>\n",
       "</table>\n",
       "</div>"
      ],
      "text/plain": [
       "                 id           Age  Driving_License   Region_Code  \\\n",
       "count  7.669866e+06  7.669866e+06     7.669866e+06  7.669866e+06   \n",
       "mean   1.533973e+07  3.839137e+01     9.980208e-01  2.642661e+01   \n",
       "std    2.214100e+06  1.499951e+01     4.444387e-02  1.299433e+01   \n",
       "min    1.150480e+07  2.000000e+01     0.000000e+00  0.000000e+00   \n",
       "25%    1.342226e+07  2.400000e+01     1.000000e+00  1.500000e+01   \n",
       "50%    1.533973e+07  3.600000e+01     1.000000e+00  2.800000e+01   \n",
       "75%    1.725720e+07  4.900000e+01     1.000000e+00  3.500000e+01   \n",
       "max    1.917466e+07  8.500000e+01     1.000000e+00  5.200000e+01   \n",
       "\n",
       "       Previously_Insured  Annual_Premium  Policy_Sales_Channel       Vintage  \n",
       "count        7.669866e+06    7.669866e+06          7.669866e+06  7.669866e+06  \n",
       "mean         4.630772e-01    3.046553e+04          1.123650e+02  1.638996e+02  \n",
       "std          4.986349e-01    1.644586e+04          5.407358e+01  7.998445e+01  \n",
       "min          0.000000e+00    2.630000e+03          1.000000e+00  1.000000e+01  \n",
       "25%          0.000000e+00    2.528000e+04          2.900000e+01  9.900000e+01  \n",
       "50%          0.000000e+00    3.182700e+04          1.510000e+02  1.660000e+02  \n",
       "75%          1.000000e+00    3.946000e+04          1.520000e+02  2.320000e+02  \n",
       "max          1.000000e+00    5.401650e+05          1.630000e+02  2.990000e+02  "
      ]
     },
     "execution_count": 8,
     "metadata": {},
     "output_type": "execute_result"
    }
   ],
   "source": [
    "test.describe()"
   ]
  },
  {
   "cell_type": "code",
   "execution_count": 9,
   "id": "d33d20f4",
   "metadata": {
    "execution": {
     "iopub.execute_input": "2024-07-31T19:39:57.596974Z",
     "iopub.status.busy": "2024-07-31T19:39:57.596577Z",
     "iopub.status.idle": "2024-07-31T19:39:59.284001Z",
     "shell.execute_reply": "2024-07-31T19:39:59.283000Z"
    },
    "papermill": {
     "duration": 1.701757,
     "end_time": "2024-07-31T19:39:59.286427",
     "exception": false,
     "start_time": "2024-07-31T19:39:57.584670",
     "status": "completed"
    },
    "tags": []
   },
   "outputs": [
    {
     "data": {
      "text/plain": [
       "id                      0\n",
       "Gender                  0\n",
       "Age                     0\n",
       "Driving_License         0\n",
       "Region_Code             0\n",
       "Previously_Insured      0\n",
       "Vehicle_Age             0\n",
       "Vehicle_Damage          0\n",
       "Annual_Premium          0\n",
       "Policy_Sales_Channel    0\n",
       "Vintage                 0\n",
       "Response                0\n",
       "dtype: int64"
      ]
     },
     "execution_count": 9,
     "metadata": {},
     "output_type": "execute_result"
    }
   ],
   "source": [
    "train.isnull().sum()"
   ]
  },
  {
   "cell_type": "code",
   "execution_count": 10,
   "id": "65fb6633",
   "metadata": {
    "execution": {
     "iopub.execute_input": "2024-07-31T19:39:59.309888Z",
     "iopub.status.busy": "2024-07-31T19:39:59.309471Z",
     "iopub.status.idle": "2024-07-31T19:40:00.431417Z",
     "shell.execute_reply": "2024-07-31T19:40:00.430369Z"
    },
    "papermill": {
     "duration": 1.136428,
     "end_time": "2024-07-31T19:40:00.433839",
     "exception": false,
     "start_time": "2024-07-31T19:39:59.297411",
     "status": "completed"
    },
    "tags": []
   },
   "outputs": [
    {
     "data": {
      "text/plain": [
       "id                      0\n",
       "Gender                  0\n",
       "Age                     0\n",
       "Driving_License         0\n",
       "Region_Code             0\n",
       "Previously_Insured      0\n",
       "Vehicle_Age             0\n",
       "Vehicle_Damage          0\n",
       "Annual_Premium          0\n",
       "Policy_Sales_Channel    0\n",
       "Vintage                 0\n",
       "dtype: int64"
      ]
     },
     "execution_count": 10,
     "metadata": {},
     "output_type": "execute_result"
    }
   ],
   "source": [
    "test.isnull().sum()"
   ]
  },
  {
   "cell_type": "code",
   "execution_count": 11,
   "id": "0d6161f7",
   "metadata": {
    "execution": {
     "iopub.execute_input": "2024-07-31T19:40:00.458144Z",
     "iopub.status.busy": "2024-07-31T19:40:00.457734Z",
     "iopub.status.idle": "2024-07-31T19:40:00.464479Z",
     "shell.execute_reply": "2024-07-31T19:40:00.463379Z"
    },
    "papermill": {
     "duration": 0.021413,
     "end_time": "2024-07-31T19:40:00.466775",
     "exception": false,
     "start_time": "2024-07-31T19:40:00.445362",
     "status": "completed"
    },
    "tags": []
   },
   "outputs": [
    {
     "data": {
      "text/plain": [
       "((11504798, 12), (7669866, 11))"
      ]
     },
     "execution_count": 11,
     "metadata": {},
     "output_type": "execute_result"
    }
   ],
   "source": [
    "train.shape, test.shape"
   ]
  },
  {
   "cell_type": "code",
   "execution_count": 12,
   "id": "03806833",
   "metadata": {
    "execution": {
     "iopub.execute_input": "2024-07-31T19:40:00.490684Z",
     "iopub.status.busy": "2024-07-31T19:40:00.490293Z",
     "iopub.status.idle": "2024-07-31T19:40:08.362178Z",
     "shell.execute_reply": "2024-07-31T19:40:08.361131Z"
    },
    "papermill": {
     "duration": 7.886688,
     "end_time": "2024-07-31T19:40:08.364644",
     "exception": false,
     "start_time": "2024-07-31T19:40:00.477956",
     "status": "completed"
    },
    "tags": []
   },
   "outputs": [
    {
     "data": {
      "text/plain": [
       "0"
      ]
     },
     "execution_count": 12,
     "metadata": {},
     "output_type": "execute_result"
    }
   ],
   "source": [
    "train.duplicated().sum()"
   ]
  },
  {
   "cell_type": "code",
   "execution_count": 13,
   "id": "5a76b4c1",
   "metadata": {
    "execution": {
     "iopub.execute_input": "2024-07-31T19:40:08.388869Z",
     "iopub.status.busy": "2024-07-31T19:40:08.388484Z",
     "iopub.status.idle": "2024-07-31T19:40:13.728160Z",
     "shell.execute_reply": "2024-07-31T19:40:13.726965Z"
    },
    "papermill": {
     "duration": 5.354467,
     "end_time": "2024-07-31T19:40:13.730614",
     "exception": false,
     "start_time": "2024-07-31T19:40:08.376147",
     "status": "completed"
    },
    "tags": []
   },
   "outputs": [
    {
     "data": {
      "text/plain": [
       "0"
      ]
     },
     "execution_count": 13,
     "metadata": {},
     "output_type": "execute_result"
    }
   ],
   "source": [
    "test.duplicated().sum()"
   ]
  },
  {
   "cell_type": "code",
   "execution_count": 14,
   "id": "ed73f4e2",
   "metadata": {
    "execution": {
     "iopub.execute_input": "2024-07-31T19:40:13.756812Z",
     "iopub.status.busy": "2024-07-31T19:40:13.755450Z",
     "iopub.status.idle": "2024-07-31T19:40:16.403335Z",
     "shell.execute_reply": "2024-07-31T19:40:16.402168Z"
    },
    "papermill": {
     "duration": 2.663284,
     "end_time": "2024-07-31T19:40:16.405677",
     "exception": false,
     "start_time": "2024-07-31T19:40:13.742393",
     "status": "completed"
    },
    "tags": []
   },
   "outputs": [
    {
     "name": "stdout",
     "output_type": "stream",
     "text": [
      "{'Age': 0, 'Driving_License': 22757, 'Region_Code': 0, 'Previously_Insured': 0, 'Annual_Premium': 1433, 'Policy_Sales_Channel': 0, 'Vintage': 0}\n"
     ]
    }
   ],
   "source": [
    "#check outliers\n",
    "columns=['Age','Driving_License','Region_Code','Previously_Insured','Annual_Premium','Policy_Sales_Channel','Vintage']\n",
    "train = pd.DataFrame(train)\n",
    "outliers_sum = {}\n",
    "def detect_outliers(column):\n",
    "    Q1 = column.quantile(0.10)\n",
    "    Q3 = column.quantile(0.90)\n",
    "    IQR = Q3 - Q1\n",
    "    lower_bound = Q1 - 3* IQR\n",
    "    upper_bound = Q3 + 3* IQR\n",
    "    outliers = (column < lower_bound) | (column > upper_bound)\n",
    "    return outliers\n",
    "for column in columns:\n",
    "    outliers = detect_outliers(train[column])\n",
    "    outliers_sum[column] = outliers.sum()\n",
    "\n",
    "print(outliers_sum)"
   ]
  },
  {
   "cell_type": "code",
   "execution_count": 15,
   "id": "a3881216",
   "metadata": {
    "execution": {
     "iopub.execute_input": "2024-07-31T19:40:16.430207Z",
     "iopub.status.busy": "2024-07-31T19:40:16.429767Z",
     "iopub.status.idle": "2024-07-31T19:40:18.179717Z",
     "shell.execute_reply": "2024-07-31T19:40:18.178386Z"
    },
    "papermill": {
     "duration": 1.765209,
     "end_time": "2024-07-31T19:40:18.182322",
     "exception": false,
     "start_time": "2024-07-31T19:40:16.417113",
     "status": "completed"
    },
    "tags": []
   },
   "outputs": [
    {
     "name": "stdout",
     "output_type": "stream",
     "text": [
      "{'Age': 0, 'Driving_License': 15180, 'Region_Code': 0, 'Previously_Insured': 0, 'Annual_Premium': 967, 'Policy_Sales_Channel': 0, 'Vintage': 0}\n"
     ]
    }
   ],
   "source": [
    "#check outliers\n",
    "columns=['Age','Driving_License','Region_Code','Previously_Insured','Annual_Premium','Policy_Sales_Channel','Vintage']\n",
    "test = pd.DataFrame(test)\n",
    "outliers_sum = {}\n",
    "def detect_outliers(column):\n",
    "    Q1 = column.quantile(0.10)\n",
    "    Q3 = column.quantile(0.90)\n",
    "    IQR = Q3 - Q1\n",
    "    lower_bound = Q1 - 3* IQR\n",
    "    upper_bound = Q3 + 3* IQR\n",
    "    outliers = (column < lower_bound) | (column > upper_bound)\n",
    "    return outliers\n",
    "for column in columns:\n",
    "    outliers = detect_outliers(test[column])\n",
    "    outliers_sum[column] = outliers.sum()\n",
    "\n",
    "print(outliers_sum)"
   ]
  },
  {
   "cell_type": "code",
   "execution_count": 16,
   "id": "2bc4d6a9",
   "metadata": {
    "execution": {
     "iopub.execute_input": "2024-07-31T19:40:18.207515Z",
     "iopub.status.busy": "2024-07-31T19:40:18.207127Z",
     "iopub.status.idle": "2024-07-31T19:40:24.217022Z",
     "shell.execute_reply": "2024-07-31T19:40:24.215776Z"
    },
    "papermill": {
     "duration": 6.025754,
     "end_time": "2024-07-31T19:40:24.219585",
     "exception": false,
     "start_time": "2024-07-31T19:40:18.193831",
     "status": "completed"
    },
    "tags": []
   },
   "outputs": [
    {
     "name": "stdout",
     "output_type": "stream",
     "text": [
      "{'Age': 0, 'Driving_License': 0, 'Region_Code': 0, 'Previously_Insured': 0, 'Annual_Premium': 0, 'Policy_Sales_Channel': 0, 'Vintage': 0}\n"
     ]
    }
   ],
   "source": [
    "# Capping outliers using 1st and 99th percentile\n",
    "\n",
    "def cap_outliers(column):\n",
    "    lower_bound = column.quantile(0.01)\n",
    "    upper_bound = column.quantile(0.99)\n",
    "    column = np.where(column < lower_bound, lower_bound, column)\n",
    "    column = np.where(column > upper_bound, upper_bound, column)\n",
    "    return column\n",
    "\n",
    "for column in columns:\n",
    "    train[column] = cap_outliers(train[column])\n",
    "\n",
    "# Checking the number of outliers after capping\n",
    "outliers_sum_capped = {}\n",
    "for column in columns:\n",
    "    outliers = detect_outliers(train[column])\n",
    "    outliers_sum_capped[column] = outliers.sum()\n",
    "\n",
    "print(outliers_sum_capped)"
   ]
  },
  {
   "cell_type": "code",
   "execution_count": 17,
   "id": "a2c31fe7",
   "metadata": {
    "execution": {
     "iopub.execute_input": "2024-07-31T19:40:24.245198Z",
     "iopub.status.busy": "2024-07-31T19:40:24.244766Z",
     "iopub.status.idle": "2024-07-31T19:40:28.260529Z",
     "shell.execute_reply": "2024-07-31T19:40:28.259143Z"
    },
    "papermill": {
     "duration": 4.0312,
     "end_time": "2024-07-31T19:40:28.263064",
     "exception": false,
     "start_time": "2024-07-31T19:40:24.231864",
     "status": "completed"
    },
    "tags": []
   },
   "outputs": [
    {
     "name": "stdout",
     "output_type": "stream",
     "text": [
      "{'Age': 0, 'Driving_License': 0, 'Region_Code': 0, 'Previously_Insured': 0, 'Annual_Premium': 0, 'Policy_Sales_Channel': 0, 'Vintage': 0}\n"
     ]
    }
   ],
   "source": [
    "# Capping outliers using 1st and 99th percentile\n",
    "\n",
    "def cap_outliers(column):\n",
    "    lower_bound = column.quantile(0.01)\n",
    "    upper_bound = column.quantile(0.99)\n",
    "    column = np.where(column < lower_bound, lower_bound, column)\n",
    "    column = np.where(column > upper_bound, upper_bound, column)\n",
    "    return column\n",
    "\n",
    "for column in columns:\n",
    "    test[column] = cap_outliers(test[column])\n",
    "\n",
    "# Checking the number of outliers after capping\n",
    "outliers_sum_capped = {}\n",
    "for column in columns:\n",
    "    outliers = detect_outliers(test[column])\n",
    "    outliers_sum_capped[column] = outliers.sum()\n",
    "\n",
    "print(outliers_sum_capped)"
   ]
  },
  {
   "cell_type": "code",
   "execution_count": 18,
   "id": "ee631aab",
   "metadata": {
    "execution": {
     "iopub.execute_input": "2024-07-31T19:40:28.288642Z",
     "iopub.status.busy": "2024-07-31T19:40:28.288174Z",
     "iopub.status.idle": "2024-07-31T19:40:28.293356Z",
     "shell.execute_reply": "2024-07-31T19:40:28.292261Z"
    },
    "papermill": {
     "duration": 0.02075,
     "end_time": "2024-07-31T19:40:28.295609",
     "exception": false,
     "start_time": "2024-07-31T19:40:28.274859",
     "status": "completed"
    },
    "tags": []
   },
   "outputs": [],
   "source": [
    "train=pd.DataFrame(train)"
   ]
  },
  {
   "cell_type": "code",
   "execution_count": 19,
   "id": "fdfd8935",
   "metadata": {
    "execution": {
     "iopub.execute_input": "2024-07-31T19:40:28.320121Z",
     "iopub.status.busy": "2024-07-31T19:40:28.319730Z",
     "iopub.status.idle": "2024-07-31T19:40:28.324644Z",
     "shell.execute_reply": "2024-07-31T19:40:28.323597Z"
    },
    "papermill": {
     "duration": 0.01962,
     "end_time": "2024-07-31T19:40:28.326743",
     "exception": false,
     "start_time": "2024-07-31T19:40:28.307123",
     "status": "completed"
    },
    "tags": []
   },
   "outputs": [],
   "source": [
    "test=pd.DataFrame(test)"
   ]
  },
  {
   "cell_type": "markdown",
   "id": "a338a52b",
   "metadata": {
    "papermill": {
     "duration": 0.011382,
     "end_time": "2024-07-31T19:40:28.349828",
     "exception": false,
     "start_time": "2024-07-31T19:40:28.338446",
     "status": "completed"
    },
    "tags": []
   },
   "source": [
    "Exploratory data analysis"
   ]
  },
  {
   "cell_type": "code",
   "execution_count": 20,
   "id": "4cec8e7f",
   "metadata": {
    "execution": {
     "iopub.execute_input": "2024-07-31T19:40:28.374921Z",
     "iopub.status.busy": "2024-07-31T19:40:28.374210Z",
     "iopub.status.idle": "2024-07-31T19:40:29.492188Z",
     "shell.execute_reply": "2024-07-31T19:40:29.491093Z"
    },
    "papermill": {
     "duration": 1.133255,
     "end_time": "2024-07-31T19:40:29.494696",
     "exception": false,
     "start_time": "2024-07-31T19:40:28.361441",
     "status": "completed"
    },
    "tags": []
   },
   "outputs": [
    {
     "data": {
      "image/png": "[encoded data removed]",
      "text/plain": [
       "<Figure size 640x480 with 1 Axes>"
      ]
     },
     "metadata": {},
     "output_type": "display_data"
    }
   ],
   "source": [
    "#Visualizing the distribution of the response variable\n",
    "sns.countplot(x='Response', data=train) \n",
    "plt.title('Distribution of Response variable') \n",
    "plt.show()"
   ]
  },
  {
   "cell_type": "markdown",
   "id": "39d77e63",
   "metadata": {
    "papermill": {
     "duration": 0.011965,
     "end_time": "2024-07-31T19:40:29.518811",
     "exception": false,
     "start_time": "2024-07-31T19:40:29.506846",
     "status": "completed"
    },
    "tags": []
   },
   "source": [
    "#### Heavily imbalanced data of response variable  "
   ]
  },
  {
   "cell_type": "code",
   "execution_count": 21,
   "id": "fa7c57b8",
   "metadata": {
    "execution": {
     "iopub.execute_input": "2024-07-31T19:40:29.544018Z",
     "iopub.status.busy": "2024-07-31T19:40:29.543652Z",
     "iopub.status.idle": "2024-07-31T19:40:33.710199Z",
     "shell.execute_reply": "2024-07-31T19:40:33.709034Z"
    },
    "papermill": {
     "duration": 4.182056,
     "end_time": "2024-07-31T19:40:33.712659",
     "exception": false,
     "start_time": "2024-07-31T19:40:29.530603",
     "status": "completed"
    },
    "tags": []
   },
   "outputs": [
    {
     "data": {
      "image/png": "[encoded data removed]",
      "text/plain": [
       "<Figure size 640x480 with 1 Axes>"
      ]
     },
     "metadata": {},
     "output_type": "display_data"
    }
   ],
   "source": [
    "var=train['Vehicle_Age']\n",
    "plt.hist(var, bins=3, color='skyblue', edgecolor='black')\n",
    "plt.xlabel('Vehicle_Age') \n",
    "plt.ylabel('Frequency') \n",
    "plt.title('Histogram of Vehicle age') \n",
    "plt.show()"
   ]
  },
  {
   "cell_type": "markdown",
   "id": "44d4299d",
   "metadata": {
    "papermill": {
     "duration": 0.01253,
     "end_time": "2024-07-31T19:40:33.797440",
     "exception": false,
     "start_time": "2024-07-31T19:40:33.784910",
     "status": "completed"
    },
    "tags": []
   },
   "source": [
    "This graph shows that there is a fairly even distribution of vehicle ages, with the highest number of cars falling into the 1-2 year age range. This could indicate a recent increase in vehicle purchases or turnover within the population.\r\n",
    "\r\n",
    "Overall, the graph shows that there is a mix of newer and older vehicles within the population, which can provide insight into consumer behavior, market trends, and the overall health of the automotive industry."
   ]
  },
  {
   "cell_type": "code",
   "execution_count": 22,
   "id": "397f72f9",
   "metadata": {
    "execution": {
     "iopub.execute_input": "2024-07-31T19:40:33.823780Z",
     "iopub.status.busy": "2024-07-31T19:40:33.823390Z",
     "iopub.status.idle": "2024-07-31T19:40:34.325511Z",
     "shell.execute_reply": "2024-07-31T19:40:34.324443Z"
    },
    "papermill": {
     "duration": 0.518075,
     "end_time": "2024-07-31T19:40:34.327802",
     "exception": false,
     "start_time": "2024-07-31T19:40:33.809727",
     "status": "completed"
    },
    "tags": []
   },
   "outputs": [
    {
     "data": {
      "image/png": "[encoded data removed]",
      "text/plain": [
       "<Figure size 640x480 with 1 Axes>"
      ]
     },
     "metadata": {},
     "output_type": "display_data"
    }
   ],
   "source": [
    "var=train['Age']\n",
    "plt.hist(var, bins=10, color='skyblue', edgecolor='black')\n",
    "plt.xlabel('Age') \n",
    "plt.ylabel('Frequency') \n",
    "plt.title('Histogram of Age') \n",
    "plt.show()"
   ]
  },
  {
   "cell_type": "markdown",
   "id": "7d1f8842",
   "metadata": {
    "papermill": {
     "duration": 0.012393,
     "end_time": "2024-07-31T19:40:34.352976",
     "exception": false,
     "start_time": "2024-07-31T19:40:34.340583",
     "status": "completed"
    },
    "tags": []
   },
   "source": [
    "The histogram shows that the primary age group buying vehicles from this insurance dataset is in their early to mid twenties, with a general decline in numbers as age increases."
   ]
  },
  {
   "cell_type": "code",
   "execution_count": 23,
   "id": "e7f96818",
   "metadata": {
    "execution": {
     "iopub.execute_input": "2024-07-31T19:40:34.380130Z",
     "iopub.status.busy": "2024-07-31T19:40:34.379724Z",
     "iopub.status.idle": "2024-07-31T19:44:45.233029Z",
     "shell.execute_reply": "2024-07-31T19:44:45.230933Z"
    },
    "papermill": {
     "duration": 250.882157,
     "end_time": "2024-07-31T19:44:45.248016",
     "exception": false,
     "start_time": "2024-07-31T19:40:34.365859",
     "status": "completed"
    },
    "tags": []
   },
   "outputs": [
    {
     "data": {
      "image/png": "[encoded data removed]",
      "text/plain": [
       "<Figure size 640x480 with 1 Axes>"
      ]
     },
     "metadata": {},
     "output_type": "display_data"
    }
   ],
   "source": [
    "# Compare Vehicle_Age and Annual_Premium\n",
    "sns.barplot(x='Vehicle_Age', y='Annual_Premium', data=train)\n",
    "plt.show()"
   ]
  },
  {
   "cell_type": "code",
   "execution_count": 24,
   "id": "d899ca5d",
   "metadata": {
    "execution": {
     "iopub.execute_input": "2024-07-31T19:44:45.276211Z",
     "iopub.status.busy": "2024-07-31T19:44:45.275849Z",
     "iopub.status.idle": "2024-07-31T19:45:16.125449Z",
     "shell.execute_reply": "2024-07-31T19:45:16.124316Z"
    },
    "papermill": {
     "duration": 30.879826,
     "end_time": "2024-07-31T19:45:16.140863",
     "exception": false,
     "start_time": "2024-07-31T19:44:45.261037",
     "status": "completed"
    },
    "tags": []
   },
   "outputs": [
    {
     "data": {
      "image/png": "[encoded data removed]",
      "text/plain": [
       "<Figure size 640x480 with 1 Axes>"
      ]
     },
     "metadata": {},
     "output_type": "display_data"
    }
   ],
   "source": [
    "# Compare Vehicle_Damage and Annual_Premium\n",
    "sns.violinplot(x='Vehicle_Damage', y='Annual_Premium', data=train)\n",
    "plt.show()"
   ]
  },
  {
   "cell_type": "code",
   "execution_count": 25,
   "id": "bc2a071d",
   "metadata": {
    "execution": {
     "iopub.execute_input": "2024-07-31T19:45:16.170746Z",
     "iopub.status.busy": "2024-07-31T19:45:16.170325Z",
     "iopub.status.idle": "2024-07-31T19:45:18.585997Z",
     "shell.execute_reply": "2024-07-31T19:45:18.584936Z"
    },
    "papermill": {
     "duration": 2.433246,
     "end_time": "2024-07-31T19:45:18.588167",
     "exception": false,
     "start_time": "2024-07-31T19:45:16.154921",
     "status": "completed"
    },
    "tags": []
   },
   "outputs": [
    {
     "data": {
      "image/png": "[encoded data removed]",
      "text/plain": [
       "<Figure size 640x480 with 1 Axes>"
      ]
     },
     "metadata": {},
     "output_type": "display_data"
    }
   ],
   "source": [
    "# Compare Previously_Insured and Response\n",
    "sns.countplot(x='Previously_Insured', hue='Response', data=train)\n",
    "plt.show()"
   ]
  },
  {
   "cell_type": "code",
   "execution_count": 26,
   "id": "4655d7b5",
   "metadata": {
    "execution": {
     "iopub.execute_input": "2024-07-31T19:45:18.617868Z",
     "iopub.status.busy": "2024-07-31T19:45:18.617453Z",
     "iopub.status.idle": "2024-07-31T19:45:21.556125Z",
     "shell.execute_reply": "2024-07-31T19:45:21.555033Z"
    },
    "papermill": {
     "duration": 2.956232,
     "end_time": "2024-07-31T19:45:21.558514",
     "exception": false,
     "start_time": "2024-07-31T19:45:18.602282",
     "status": "completed"
    },
    "tags": []
   },
   "outputs": [
    {
     "data": {
      "image/png": "[encoded data removed]",
      "text/plain": [
       "<Figure size 640x480 with 2 Axes>"
      ]
     },
     "metadata": {},
     "output_type": "display_data"
    }
   ],
   "source": [
    "#calculate correlation matrix\n",
    "correlation_matrix = train[['Age','Region_Code','Previously_Insured','Annual_Premium','Policy_Sales_Channel','Vintage','Response']].corr()\n",
    "\n",
    "#plot the correlation matrix as heatmap\n",
    "sns.heatmap(correlation_matrix, annot=True, cmap='coolwarm') \n",
    "plt.title('Correlation Coefficient Heatmap') \n",
    "plt.show()"
   ]
  },
  {
   "cell_type": "code",
   "execution_count": 27,
   "id": "034465d0",
   "metadata": {
    "execution": {
     "iopub.execute_input": "2024-07-31T19:45:21.590655Z",
     "iopub.status.busy": "2024-07-31T19:45:21.590231Z",
     "iopub.status.idle": "2024-07-31T20:07:16.511806Z",
     "shell.execute_reply": "2024-07-31T20:07:16.510768Z"
    },
    "papermill": {
     "duration": 1314.940834,
     "end_time": "2024-07-31T20:07:16.514483",
     "exception": false,
     "start_time": "2024-07-31T19:45:21.573649",
     "status": "completed"
    },
    "tags": []
   },
   "outputs": [],
   "source": [
    "\n",
    "# Create separate LabelEncoders for each feature\n",
    "gender_le = LabelEncoder()\n",
    "vehicle_age_le = LabelEncoder()\n",
    "vehicle_damage_le = LabelEncoder()\n",
    "\n",
    "# Fit the encoders on the training data\n",
    "train['Gender'] = gender_le.fit_transform(train['Gender'])\n",
    "train['Vehicle_Age'] = vehicle_age_le.fit_transform(train['Vehicle_Age'])\n",
    "train['Vehicle_Damage'] = vehicle_damage_le.fit_transform(train['Vehicle_Damage'])\n",
    "\n",
    "# Define a safe transformation function\n",
    "def safe_transform(encoder, value):\n",
    "    if pd.isnull(value):  # Check for NaN values\n",
    "        return -1  # or any other number representing unknown categories\n",
    "    if value in encoder.classes_:\n",
    "        return encoder.transform([value])[0]\n",
    "    else:\n",
    "        return -1  # or any other number representing unknown categories\n",
    "\n",
    "# Apply safe_transform function for the test dataset\n",
    "test['Gender'] = test['Gender'].apply(lambda x: safe_transform(gender_le, x))\n",
    "test['Vehicle_Age'] = test['Vehicle_Age'].apply(lambda x: safe_transform(vehicle_age_le, x))\n",
    "test['Vehicle_Damage'] = test['Vehicle_Damage'].apply(lambda x: safe_transform(vehicle_damage_le, x))"
   ]
  },
  {
   "cell_type": "code",
   "execution_count": 28,
   "id": "bda63788",
   "metadata": {
    "execution": {
     "iopub.execute_input": "2024-07-31T20:07:16.546930Z",
     "iopub.status.busy": "2024-07-31T20:07:16.546556Z",
     "iopub.status.idle": "2024-07-31T20:07:17.075313Z",
     "shell.execute_reply": "2024-07-31T20:07:17.073922Z"
    },
    "papermill": {
     "duration": 0.547823,
     "end_time": "2024-07-31T20:07:17.077932",
     "exception": false,
     "start_time": "2024-07-31T20:07:16.530109",
     "status": "completed"
    },
    "tags": []
   },
   "outputs": [],
   "source": [
    "# Features and target variable\n",
    "X = train.drop(columns=['id', 'Response'])\n",
    "y = train['Response']\n"
   ]
  },
  {
   "cell_type": "code",
   "execution_count": 29,
   "id": "736b6b79",
   "metadata": {
    "execution": {
     "iopub.execute_input": "2024-07-31T20:07:17.111934Z",
     "iopub.status.busy": "2024-07-31T20:07:17.111471Z",
     "iopub.status.idle": "2024-07-31T20:07:24.280201Z",
     "shell.execute_reply": "2024-07-31T20:07:24.278973Z"
    },
    "papermill": {
     "duration": 7.187937,
     "end_time": "2024-07-31T20:07:24.282702",
     "exception": false,
     "start_time": "2024-07-31T20:07:17.094765",
     "status": "completed"
    },
    "tags": []
   },
   "outputs": [],
   "source": [
    "# Splitting the data into training and validation sets\n",
    "X_train, X_val, y_train, y_val = train_test_split(X, y, test_size=0.2, random_state=42, stratify=y)"
   ]
  },
  {
   "cell_type": "code",
   "execution_count": 30,
   "id": "f675bd2f",
   "metadata": {
    "execution": {
     "iopub.execute_input": "2024-07-31T20:07:24.315847Z",
     "iopub.status.busy": "2024-07-31T20:07:24.315448Z",
     "iopub.status.idle": "2024-07-31T20:08:23.852010Z",
     "shell.execute_reply": "2024-07-31T20:08:23.850685Z"
    },
    "papermill": {
     "duration": 59.555939,
     "end_time": "2024-07-31T20:08:23.854627",
     "exception": false,
     "start_time": "2024-07-31T20:07:24.298688",
     "status": "completed"
    },
    "tags": []
   },
   "outputs": [],
   "source": [
    "# Applying SMOTE to handle imbalanced classes\n",
    "smote = SMOTE(random_state=42)\n",
    "X_train_res, y_train_res = smote.fit_resample(X_train, y_train)"
   ]
  },
  {
   "cell_type": "code",
   "execution_count": 31,
   "id": "aefeae78",
   "metadata": {
    "execution": {
     "iopub.execute_input": "2024-07-31T20:08:23.886983Z",
     "iopub.status.busy": "2024-07-31T20:08:23.886614Z",
     "iopub.status.idle": "2024-07-31T20:08:28.154725Z",
     "shell.execute_reply": "2024-07-31T20:08:28.153677Z"
    },
    "papermill": {
     "duration": 4.286888,
     "end_time": "2024-07-31T20:08:28.157118",
     "exception": false,
     "start_time": "2024-07-31T20:08:23.870230",
     "status": "completed"
    },
    "tags": []
   },
   "outputs": [],
   "source": [
    "# Normalize the features using StandardScaler\n",
    "scaler = StandardScaler()\n",
    "X_train_res = scaler.fit_transform(X_train_res)\n",
    "X_val = scaler.transform(X_val)\n",
    "# For the test data\n",
    "X_test = scaler.transform(test.drop(columns=['id']))\n"
   ]
  },
  {
   "cell_type": "markdown",
   "id": "18788c59",
   "metadata": {
    "papermill": {
     "duration": 0.01545,
     "end_time": "2024-07-31T20:08:28.187789",
     "exception": false,
     "start_time": "2024-07-31T20:08:28.172339",
     "status": "completed"
    },
    "tags": []
   },
   "source": [
    "XGBoost Model"
   ]
  },
  {
   "cell_type": "code",
   "execution_count": 32,
   "id": "a93e6d4d",
   "metadata": {
    "execution": {
     "iopub.execute_input": "2024-07-31T20:08:28.220700Z",
     "iopub.status.busy": "2024-07-31T20:08:28.220285Z",
     "iopub.status.idle": "2024-07-31T20:10:13.512598Z",
     "shell.execute_reply": "2024-07-31T20:10:13.511388Z"
    },
    "papermill": {
     "duration": 105.31159,
     "end_time": "2024-07-31T20:10:13.514916",
     "exception": false,
     "start_time": "2024-07-31T20:08:28.203326",
     "status": "completed"
    },
    "tags": []
   },
   "outputs": [
    {
     "name": "stdout",
     "output_type": "stream",
     "text": [
      "XGBoost Model Performance:\n",
      "Accuracy: 0.8233376503720187\n",
      "Confusion Matrix:\n",
      " [[1740686  277262]\n",
      " [ 129231  153781]]\n",
      "              precision    recall  f1-score   support\n",
      "\n",
      "           0       0.93      0.86      0.90   2017948\n",
      "           1       0.36      0.54      0.43    283012\n",
      "\n",
      "    accuracy                           0.82   2300960\n",
      "   macro avg       0.64      0.70      0.66   2300960\n",
      "weighted avg       0.86      0.82      0.84   2300960\n",
      "\n"
     ]
    }
   ],
   "source": [
    "# Initialize the XGBoost classifier\n",
    "xgb_model = XGBClassifier(use_label_encoder=False, eval_metric='logloss', random_state=42)\n",
    "\n",
    "# Fitting the model\n",
    "xgb_model.fit(X_train_res, y_train_res)\n",
    "\n",
    "# Make predictions\n",
    "y_val_pred_xgb = xgb_model.predict(X_val)\n",
    "\n",
    "# Evaluate the model's performance\n",
    "print(\"XGBoost Model Performance:\")\n",
    "print(\"Accuracy:\", accuracy_score(y_val, y_val_pred_xgb))\n",
    "print(\"Confusion Matrix:\\n\", confusion_matrix(y_val, y_val_pred_xgb))\n",
    "print(classification_report(y_val, y_val_pred_xgb))"
   ]
  },
  {
   "cell_type": "markdown",
   "id": "03f9ac13",
   "metadata": {
    "papermill": {
     "duration": 0.016385,
     "end_time": "2024-07-31T20:10:13.547229",
     "exception": false,
     "start_time": "2024-07-31T20:10:13.530844",
     "status": "completed"
    },
    "tags": []
   },
   "source": [
    "LightGBM Model"
   ]
  },
  {
   "cell_type": "code",
   "execution_count": 33,
   "id": "dfceceff",
   "metadata": {
    "execution": {
     "iopub.execute_input": "2024-07-31T20:10:13.580525Z",
     "iopub.status.busy": "2024-07-31T20:10:13.580050Z",
     "iopub.status.idle": "2024-07-31T20:12:55.271102Z",
     "shell.execute_reply": "2024-07-31T20:12:55.269769Z"
    },
    "papermill": {
     "duration": 161.710808,
     "end_time": "2024-07-31T20:12:55.273411",
     "exception": false,
     "start_time": "2024-07-31T20:10:13.562603",
     "status": "completed"
    },
    "tags": []
   },
   "outputs": [
    {
     "name": "stdout",
     "output_type": "stream",
     "text": [
      "[LightGBM] [Info] Number of positive: 8071791, number of negative: 8071791\n",
      "[LightGBM] [Info] Auto-choosing row-wise multi-threading, the overhead of testing was 0.621127 seconds.\n",
      "You can set `force_row_wise=true` to remove the overhead.\n",
      "And if memory is not enough, you can set `force_col_wise=true`.\n",
      "[LightGBM] [Info] Total Bins 1540\n",
      "[LightGBM] [Info] Number of data points in the train set: 16143582, number of used features: 9\n",
      "[LightGBM] [Info] [binary:BoostFromScore]: pavg=0.500000 -> initscore=0.000000\n",
      "LightGBM Model Performance:\n",
      "Accuracy: 0.8306654613726444\n",
      "Confusion Matrix:\n",
      " [[1771099  246849]\n",
      " [ 142783  140229]]\n",
      "              precision    recall  f1-score   support\n",
      "\n",
      "           0       0.93      0.88      0.90   2017948\n",
      "           1       0.36      0.50      0.42    283012\n",
      "\n",
      "    accuracy                           0.83   2300960\n",
      "   macro avg       0.64      0.69      0.66   2300960\n",
      "weighted avg       0.86      0.83      0.84   2300960\n",
      "\n"
     ]
    }
   ],
   "source": [
    "# Initialize the LightGBM classifier\n",
    "lgb_model = LGBMClassifier(random_state=42)\n",
    "\n",
    "# Fitting the model\n",
    "lgb_model.fit(X_train_res, y_train_res)\n",
    "\n",
    "# Make predictions\n",
    "y_val_pred_lgb = lgb_model.predict(X_val)\n",
    "\n",
    "# Evaluate the model's performance\n",
    "print(\"LightGBM Model Performance:\")\n",
    "print(\"Accuracy:\", accuracy_score(y_val, y_val_pred_lgb))\n",
    "print(\"Confusion Matrix:\\n\", confusion_matrix(y_val, y_val_pred_lgb))\n",
    "print(classification_report(y_val, y_val_pred_lgb))\n"
   ]
  },
  {
   "cell_type": "code",
   "execution_count": 34,
   "id": "c47ecb85",
   "metadata": {
    "execution": {
     "iopub.execute_input": "2024-07-31T20:12:55.308105Z",
     "iopub.status.busy": "2024-07-31T20:12:55.307740Z",
     "iopub.status.idle": "2024-07-31T20:13:52.766091Z",
     "shell.execute_reply": "2024-07-31T20:13:52.765087Z"
    },
    "papermill": {
     "duration": 57.47855,
     "end_time": "2024-07-31T20:13:52.768653",
     "exception": false,
     "start_time": "2024-07-31T20:12:55.290103",
     "status": "completed"
    },
    "tags": []
   },
   "outputs": [],
   "source": [
    "# Use the best performing model for final predictions\n",
    "final_predictions = lgb_model.predict(X_test)  "
   ]
  },
  {
   "cell_type": "code",
   "execution_count": 35,
   "id": "0927e8a5",
   "metadata": {
    "execution": {
     "iopub.execute_input": "2024-07-31T20:13:52.802147Z",
     "iopub.status.busy": "2024-07-31T20:13:52.801764Z",
     "iopub.status.idle": "2024-07-31T20:13:58.930119Z",
     "shell.execute_reply": "2024-07-31T20:13:58.929017Z"
    },
    "papermill": {
     "duration": 6.147908,
     "end_time": "2024-07-31T20:13:58.932691",
     "exception": false,
     "start_time": "2024-07-31T20:13:52.784783",
     "status": "completed"
    },
    "tags": []
   },
   "outputs": [],
   "source": [
    "# Create a submission DataFrame\n",
    "submission = pd.DataFrame({'id': test['id'], 'Response': final_predictions})\n",
    "submission.to_csv('submission.csv', index=False)\n"
   ]
  },
  {
   "cell_type": "code",
   "execution_count": 36,
   "id": "d2f3e4a8",
   "metadata": {
    "execution": {
     "iopub.execute_input": "2024-07-31T20:13:58.966184Z",
     "iopub.status.busy": "2024-07-31T20:13:58.965804Z",
     "iopub.status.idle": "2024-07-31T20:13:58.970314Z",
     "shell.execute_reply": "2024-07-31T20:13:58.969358Z"
    },
    "papermill": {
     "duration": 0.024096,
     "end_time": "2024-07-31T20:13:58.972779",
     "exception": false,
     "start_time": "2024-07-31T20:13:58.948683",
     "status": "completed"
    },
    "tags": []
   },
   "outputs": [
    {
     "name": "stdout",
     "output_type": "stream",
     "text": [
      "Submission file 'submission.csv' has been created successfully.\n"
     ]
    }
   ],
   "source": [
    "# Print confirmation message\n",
    "print(\"Submission file 'submission.csv' has been created successfully.\")"
   ]
  },
  {
   "cell_type": "markdown",
   "id": "c5606a9f",
   "metadata": {
    "papermill": {
     "duration": 0.016774,
     "end_time": "2024-07-31T20:13:59.005806",
     "exception": false,
     "start_time": "2024-07-31T20:13:58.989032",
     "status": "completed"
    },
    "tags": []
   },
   "source": [
    "Both models performed reasonably well in predicting customer responses to cross-selling offers, with the LightGBM model slightly outperforming the XGBoost model."
   ]
  },
  {
   "cell_type": "markdown",
   "id": "a4a47b8c",
   "metadata": {
    "papermill": {
     "duration": 0.017435,
     "end_time": "2024-07-31T20:13:59.039971",
     "exception": false,
     "start_time": "2024-07-31T20:13:59.022536",
     "status": "completed"
    },
    "tags": []
   },
   "source": [
    "The best Gradient Boosting Classifier achieved an accuracy of around 73% on the test data, with a precision of 30% for positive responses and a recall of 85%. The classification report provides insights into the model's performance metrics for both classes."
   ]
  },
  {
   "cell_type": "code",
   "execution_count": null,
   "id": "2b3999f7",
   "metadata": {
    "papermill": {
     "duration": 0.01665,
     "end_time": "2024-07-31T20:13:59.074007",
     "exception": false,
     "start_time": "2024-07-31T20:13:59.057357",
     "status": "completed"
    },
    "tags": []
   },
   "outputs": [],
   "source": []
  }
 ],
 "metadata": {
  "kaggle": {
   "accelerator": "none",
   "dataSources": [
    {
     "databundleVersionId": 8930475,
     "sourceId": 73291,
     "sourceType": "competition"
    }
   ],
   "dockerImageVersionId": 30746,
   "isGpuEnabled": false,
   "isInternetEnabled": false,
   "language": "python",
   "sourceType": "notebook"
  },
  "kernelspec": {
   "display_name": "Python 3",
   "language": "python",
   "name": "python3"
  },
  "language_info": {
   "codemirror_mode": {
    "name": "ipython",
    "version": 3
   },
   "file_extension": ".py",
   "mimetype": "text/x-python",
   "name": "python",
   "nbconvert_exporter": "python",
   "pygments_lexer": "ipython3",
   "version": "3.10.13"
  },
  "papermill": {
   "default_parameters": {},
   "duration": 2089.047485,
   "end_time": "2024-07-31T20:14:00.216987",
   "environment_variables": {},
   "exception": null,
   "input_path": "__notebook__.ipynb",
   "output_path": "__notebook__.ipynb",
   "parameters": {},
   "start_time": "2024-07-31T19:39:11.169502",
   "version": "2.5.0"
  }
 },
 "nbformat": 4,
 "nbformat_minor": 5
}
